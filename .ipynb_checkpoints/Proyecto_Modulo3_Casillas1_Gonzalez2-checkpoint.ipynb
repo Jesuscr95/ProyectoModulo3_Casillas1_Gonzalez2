{
 "cells": [
  {
   "cell_type": "code",
   "execution_count": 12,
   "metadata": {},
   "outputs": [],
   "source": [
    "import matplotlib.pyplot as plt\n",
    "%matplotlib inline\n",
    "import numpy as np\n",
    "from scipy.integrate import odeint"
   ]
  },
  {
   "cell_type": "code",
   "execution_count": 21,
   "metadata": {},
   "outputs": [],
   "source": [
    "# preserve\n",
    "def f(y, x):\n",
    "    \n",
    "     return np.array([y[1], M(x) / (E * I(x))])"
   ]
  },
  {
   "cell_type": "code",
   "execution_count": 22,
   "metadata": {},
   "outputs": [],
   "source": [
    "# preserve\n",
    "# Datos\n",
    "L = 10 # Longitud de la viga\n",
    "E = 5e4 # módulo de Young\n",
    "a = 0.6 # alto sección\n",
    "b = 0.3 # ancho sección\n",
    "# Dominio\n",
    "x = np.linspace(0, L, num=50)\n",
    "# Inercia\n",
    "def I(x):\n",
    "    return b * a**3 / 12\n",
    "# Momento flector\n",
    "def M(x):\n",
    "    return L/2 - np.abs(x - L/2)"
   ]
  },
  {
   "cell_type": "code",
   "execution_count": 37,
   "metadata": {},
   "outputs": [
    {
     "data": {
      "text/plain": [
       "array([[ 0.00000000e+00, -4.62962874e-02],\n",
       "       [-9.44296136e-03, -4.62191590e-02],\n",
       "       [-1.88544555e-02, -4.59877739e-02],\n",
       "       [-2.82029877e-02, -4.56021322e-02],\n",
       "       [-3.74570770e-02, -4.50622337e-02],\n",
       "       [-4.65852425e-02, -4.43680784e-02],\n",
       "       [-5.55560031e-02, -4.35196665e-02],\n",
       "       [-6.43378780e-02, -4.25169979e-02],\n",
       "       [-7.28993861e-02, -4.13600725e-02],\n",
       "       [-8.12090466e-02, -4.00488904e-02],\n",
       "       [-8.92353784e-02, -3.85834517e-02],\n",
       "       [-9.69469006e-02, -3.69637562e-02],\n",
       "       [-1.04312132e-01, -3.51898040e-02],\n",
       "       [-1.11299592e-01, -3.32615950e-02],\n",
       "       [-1.17877800e-01, -3.11791294e-02],\n",
       "       [-1.24015274e-01, -2.89424070e-02],\n",
       "       [-1.29680533e-01, -2.65514280e-02],\n",
       "       [-1.34842098e-01, -2.40061922e-02],\n",
       "       [-1.39468486e-01, -2.13066997e-02],\n",
       "       [-1.43528216e-01, -1.84529505e-02],\n",
       "       [-1.46989808e-01, -1.54449446e-02],\n",
       "       [-1.49821781e-01, -1.22826819e-02],\n",
       "       [-1.51992654e-01, -8.96616257e-03],\n",
       "       [-1.53470946e-01, -5.49538651e-03],\n",
       "       [-1.54225176e-01, -1.87035373e-03],\n",
       "       [-1.54225168e-01,  1.87034936e-03],\n",
       "       [-1.53470939e-01,  5.49538214e-03],\n",
       "       [-1.51992648e-01,  8.96615820e-03],\n",
       "       [-1.49821776e-01,  1.22826776e-02],\n",
       "       [-1.46989804e-01,  1.54449402e-02],\n",
       "       [-1.43528213e-01,  1.84529461e-02],\n",
       "       [-1.39468483e-01,  2.13066953e-02],\n",
       "       [-1.34842096e-01,  2.40061878e-02],\n",
       "       [-1.29680533e-01,  2.65514236e-02],\n",
       "       [-1.24015274e-01,  2.89424027e-02],\n",
       "       [-1.17877801e-01,  3.11791250e-02],\n",
       "       [-1.11299594e-01,  3.32615907e-02],\n",
       "       [-1.04312135e-01,  3.51897996e-02],\n",
       "       [-9.69469045e-02,  3.69637518e-02],\n",
       "       [-8.92353832e-02,  3.85834473e-02],\n",
       "       [-8.12090523e-02,  4.00488861e-02],\n",
       "       [-7.28993927e-02,  4.13600681e-02],\n",
       "       [-6.43378855e-02,  4.25169935e-02],\n",
       "       [-5.55560115e-02,  4.35196621e-02],\n",
       "       [-4.65852517e-02,  4.43680741e-02],\n",
       "       [-3.74570871e-02,  4.50622293e-02],\n",
       "       [-2.82029987e-02,  4.56021278e-02],\n",
       "       [-1.88544674e-02,  4.59877696e-02],\n",
       "       [-9.44297419e-03,  4.62191546e-02],\n",
       "       [ 4.09394740e-16,  4.62962830e-02]])"
      ]
     },
     "execution_count": 37,
     "metadata": {},
     "output_type": "execute_result"
    }
   ],
   "source": [
    "# Probamos solución con la condición inicial\n",
    "yp0 =-0.04629628736783764\n",
    "y0 = np.array([0, yp0])\n",
    "sol = odeint(f, y0, x)\n",
    "sol"
   ]
  },
  {
   "cell_type": "code",
   "execution_count": 38,
   "metadata": {},
   "outputs": [
    {
     "data": {
      "text/plain": [
       "array([4.0939474e-16, 4.6296283e-02])"
      ]
     },
     "execution_count": 38,
     "metadata": {},
     "output_type": "execute_result"
    },
    {
     "data": {
      "image/png": "[encoded data removed]",
      "text/plain": [
       "<Figure size 432x288 with 1 Axes>"
      ]
     },
     "metadata": {
      "needs_background": "light"
     },
     "output_type": "display_data"
    }
   ],
   "source": [
    "# La representamos\n",
    "t = np.linspace(0, 10)\n",
    "plt.plot(t, sol[:, 0], label='Sol. inicial de aprox.')\n",
    "plt.legend()\n",
    "sol[-1, :]\n"
   ]
  },
  {
   "cell_type": "code",
   "execution_count": 33,
   "metadata": {},
   "outputs": [
    {
     "data": {
      "text/plain": [
       "0.5129629801243984"
      ]
     },
     "execution_count": 33,
     "metadata": {},
     "output_type": "execute_result"
    }
   ],
   "source": [
    "def viga_biap(yp0):\n",
    "    y0 = np.array([0, yp0])\n",
    "    sol = odeint(f, y0, x)\n",
    "    return sol[-1, 0]\n",
    "viga_biap(5e-3)\n"
   ]
  },
  {
   "cell_type": "code",
   "execution_count": 34,
   "metadata": {},
   "outputs": [],
   "source": [
    "from scipy.optimize import newton"
   ]
  },
  {
   "cell_type": "code",
   "execution_count": 35,
   "metadata": {},
   "outputs": [
    {
     "data": {
      "text/plain": [
       "-0.04629628736783764"
      ]
     },
     "execution_count": 35,
     "metadata": {},
     "output_type": "execute_result"
    }
   ],
   "source": [
    "# Lo utilizamos sobre la funcion anterior para hallar la solución\n",
    "newton(viga_biap, 5e-2)"
   ]
  },
  {
   "cell_type": "code",
   "execution_count": 36,
   "metadata": {},
   "outputs": [
    {
     "data": {
      "text/plain": [
       "array([0.46666668, 0.09759259])"
      ]
     },
     "execution_count": 36,
     "metadata": {},
     "output_type": "execute_result"
    },
    {
     "data": {
      "image/png": "[encoded data removed]",
      "text/plain": [
       "<Figure size 432x288 with 1 Axes>"
      ]
     },
     "metadata": {
      "needs_background": "light"
     },
     "output_type": "display_data"
    }
   ],
   "source": [
    "plt.plot(t, sol[:, 0], label='Sol.nueva')\n",
    "plt.legend()\n",
    "sol[-1, :]"
   ]
  },
  {
   "cell_type": "code",
   "execution_count": null,
   "metadata": {},
   "outputs": [],
   "source": []
  },
  {
   "cell_type": "code",
   "execution_count": null,
   "metadata": {},
   "outputs": [],
   "source": []
  }
 ],
 "metadata": {
  "kernelspec": {
   "display_name": "Python 3",
   "language": "python",
   "name": "python3"
  },
  "language_info": {
   "codemirror_mode": {
    "name": "ipython",
    "version": 3
   },
   "file_extension": ".py",
   "mimetype": "text/x-python",
   "name": "python",
   "nbconvert_exporter": "python",
   "pygments_lexer": "ipython3",
   "version": "3.7.3"
  }
 },
 "nbformat": 4,
 "nbformat_minor": 2
}
