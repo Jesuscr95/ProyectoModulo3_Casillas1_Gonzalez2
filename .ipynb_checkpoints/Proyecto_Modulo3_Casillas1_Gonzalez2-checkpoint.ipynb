{
 "cells": [
  {
   "cell_type": "code",
   "execution_count": 1,
   "metadata": {},
   "outputs": [],
   "source": [
    "import matplotlib.pyplot as plt\n",
    "%matplotlib inline\n",
    "import numpy as np\n",
    "from scipy.integrate import odeint"
   ]
  },
  {
   "cell_type": "code",
   "execution_count": 2,
   "metadata": {},
   "outputs": [],
   "source": [
    "# preserve\n",
    "def f(y, x):\n",
    "    \n",
    "     return np.array([y[1], M(x) / (E * I(x))])"
   ]
  },
  {
   "cell_type": "code",
   "execution_count": 3,
   "metadata": {},
   "outputs": [],
   "source": [
    "# preserve\n",
    "# Datos\n",
    "L = 10 # Longitud de la viga\n",
    "E = 5e4 # módulo de Young\n",
    "a = 0.6 # alto sección\n",
    "b = 0.3 # ancho sección\n",
    "# Dominio\n",
    "x = np.linspace(0, L, num=50)\n",
    "# Inercia\n",
    "def I(x):\n",
    "    return b * a**3 / 12\n",
    "# Momento flector\n",
    "def M(x):\n",
    "    return L/2 - np.abs(x - L/2)"
   ]
  },
  {
   "cell_type": "code",
   "execution_count": 4,
   "metadata": {},
   "outputs": [
    {
     "data": {
      "text/plain": [
       "array([[0.        , 0.005     ],\n",
       "       [0.00102567, 0.00507713],\n",
       "       [0.0020828 , 0.00530851],\n",
       "       [0.0032029 , 0.00569416],\n",
       "       [0.00441744, 0.00623405],\n",
       "       [0.00575791, 0.00692821],\n",
       "       [0.00725578, 0.00777662],\n",
       "       [0.00894253, 0.00877929],\n",
       "       [0.01084965, 0.00993621],\n",
       "       [0.01300862, 0.0112474 ],\n",
       "       [0.01545092, 0.01271284],\n",
       "       [0.01820803, 0.01433253],\n",
       "       [0.02131143, 0.01610648],\n",
       "       [0.0247926 , 0.01803469],\n",
       "       [0.02868302, 0.02011716],\n",
       "       [0.03301418, 0.02235388],\n",
       "       [0.03781755, 0.02474486],\n",
       "       [0.04312461, 0.0272901 ],\n",
       "       [0.04896686, 0.02998959],\n",
       "       [0.05537576, 0.03284334],\n",
       "       [0.06238279, 0.03585134],\n",
       "       [0.07001945, 0.03901361],\n",
       "       [0.07831721, 0.04233012],\n",
       "       [0.08730755, 0.0458009 ],\n",
       "       [0.09702195, 0.04942593],\n",
       "       [0.10749059, 0.05316666],\n",
       "       [0.11871345, 0.05679169],\n",
       "       [0.13066037, 0.06026247],\n",
       "       [0.14329988, 0.06357899],\n",
       "       [0.15660049, 0.06674125],\n",
       "       [0.17053071, 0.06974925],\n",
       "       [0.18505908, 0.072603  ],\n",
       "       [0.2001541 , 0.0753025 ],\n",
       "       [0.2157843 , 0.07784773],\n",
       "       [0.23191819, 0.08023871],\n",
       "       [0.2485243 , 0.08247543],\n",
       "       [0.26557114, 0.0845579 ],\n",
       "       [0.28302723, 0.08648611],\n",
       "       [0.3008611 , 0.08826006],\n",
       "       [0.31904125, 0.08987976],\n",
       "       [0.33753622, 0.09134519],\n",
       "       [0.35631451, 0.09265638],\n",
       "       [0.37534465, 0.0938133 ],\n",
       "       [0.39459516, 0.09481597],\n",
       "       [0.41403456, 0.09566438],\n",
       "       [0.43363136, 0.09635854],\n",
       "       [0.45335408, 0.09689844],\n",
       "       [0.47317124, 0.09728408],\n",
       "       [0.49305137, 0.09751546],\n",
       "       [0.51296298, 0.09759259]])"
      ]
     },
     "execution_count": 4,
     "metadata": {},
     "output_type": "execute_result"
    }
   ],
   "source": [
    "# Probamos solución con la condición inicial\n",
    "yp0 =5e-3\n",
    "y0 = np.array([0, yp0])\n",
    "sol = odeint(f, y0, x)\n",
    "sol"
   ]
  },
  {
   "cell_type": "code",
   "execution_count": 5,
   "metadata": {},
   "outputs": [
    {
     "data": {
      "text/plain": [
       "array([0.51296298, 0.09759259])"
      ]
     },
     "execution_count": 5,
     "metadata": {},
     "output_type": "execute_result"
    },
    {
     "data": {
      "image/png": "[encoded data removed]",
      "text/plain": [
       "<Figure size 432x288 with 1 Axes>"
      ]
     },
     "metadata": {
      "needs_background": "light"
     },
     "output_type": "display_data"
    }
   ],
   "source": [
    "# La representamos\n",
    "t = np.linspace(0, 10)\n",
    "plt.plot(t, sol[:, 0], label='Sol. inicial de aprox.')\n",
    "plt.legend()\n",
    "sol[-1, :]\n"
   ]
  },
  {
   "cell_type": "code",
   "execution_count": 19,
   "metadata": {},
   "outputs": [
    {
     "data": {
      "text/plain": [
       "0.5129629801243984"
      ]
     },
     "execution_count": 19,
     "metadata": {},
     "output_type": "execute_result"
    }
   ],
   "source": [
    "def viga_biap(yp0):\n",
    " y0 = np.array([0, yp0])\n",
    " sol = odeint(f, y0, x)\n",
    " return sol[-1, 0]\n",
    "viga_biap(5e-3)\n"
   ]
  },
  {
   "cell_type": "code",
   "execution_count": 7,
   "metadata": {},
   "outputs": [],
   "source": [
    "from scipy.optimize import newton"
   ]
  },
  {
   "cell_type": "code",
   "execution_count": 20,
   "metadata": {},
   "outputs": [
    {
     "data": {
      "text/plain": [
       "-0.04629628736757263"
      ]
     },
     "execution_count": 20,
     "metadata": {},
     "output_type": "execute_result"
    }
   ],
   "source": [
    "# Lo utilizamos sobre la funcion anterior para hallar la solución\n",
    "newton(viga_biap, 5e-3)"
   ]
  },
  {
   "cell_type": "code",
   "execution_count": 21,
   "metadata": {},
   "outputs": [
    {
     "data": {
      "text/plain": [
       "array([[ 0.00000000e+00, -4.62962874e-02],\n",
       "       [-9.44296136e-03, -4.62191590e-02],\n",
       "       [-1.88544555e-02, -4.59877739e-02],\n",
       "       [-2.82029877e-02, -4.56021322e-02],\n",
       "       [-3.74570770e-02, -4.50622337e-02],\n",
       "       [-4.65852425e-02, -4.43680784e-02],\n",
       "       [-5.55560031e-02, -4.35196665e-02],\n",
       "       [-6.43378780e-02, -4.25169979e-02],\n",
       "       [-7.28993861e-02, -4.13600725e-02],\n",
       "       [-8.12090466e-02, -4.00488904e-02],\n",
       "       [-8.92353784e-02, -3.85834517e-02],\n",
       "       [-9.69469006e-02, -3.69637562e-02],\n",
       "       [-1.04312132e-01, -3.51898040e-02],\n",
       "       [-1.11299592e-01, -3.32615950e-02],\n",
       "       [-1.17877800e-01, -3.11791294e-02],\n",
       "       [-1.24015274e-01, -2.89424070e-02],\n",
       "       [-1.29680533e-01, -2.65514280e-02],\n",
       "       [-1.34842098e-01, -2.40061922e-02],\n",
       "       [-1.39468486e-01, -2.13066997e-02],\n",
       "       [-1.43528216e-01, -1.84529505e-02],\n",
       "       [-1.46989808e-01, -1.54449446e-02],\n",
       "       [-1.49821781e-01, -1.22826819e-02],\n",
       "       [-1.51992654e-01, -8.96616257e-03],\n",
       "       [-1.53470946e-01, -5.49538651e-03],\n",
       "       [-1.54225176e-01, -1.87035373e-03],\n",
       "       [-1.54225168e-01,  1.87034936e-03],\n",
       "       [-1.53470939e-01,  5.49538214e-03],\n",
       "       [-1.51992648e-01,  8.96615820e-03],\n",
       "       [-1.49821776e-01,  1.22826776e-02],\n",
       "       [-1.46989804e-01,  1.54449402e-02],\n",
       "       [-1.43528213e-01,  1.84529461e-02],\n",
       "       [-1.39468483e-01,  2.13066953e-02],\n",
       "       [-1.34842096e-01,  2.40061878e-02],\n",
       "       [-1.29680533e-01,  2.65514236e-02],\n",
       "       [-1.24015274e-01,  2.89424027e-02],\n",
       "       [-1.17877801e-01,  3.11791250e-02],\n",
       "       [-1.11299594e-01,  3.32615907e-02],\n",
       "       [-1.04312135e-01,  3.51897996e-02],\n",
       "       [-9.69469045e-02,  3.69637518e-02],\n",
       "       [-8.92353832e-02,  3.85834473e-02],\n",
       "       [-8.12090523e-02,  4.00488861e-02],\n",
       "       [-7.28993927e-02,  4.13600681e-02],\n",
       "       [-6.43378855e-02,  4.25169935e-02],\n",
       "       [-5.55560115e-02,  4.35196621e-02],\n",
       "       [-4.65852517e-02,  4.43680741e-02],\n",
       "       [-3.74570871e-02,  4.50622293e-02],\n",
       "       [-2.82029987e-02,  4.56021278e-02],\n",
       "       [-1.88544674e-02,  4.59877696e-02],\n",
       "       [-9.44297419e-03,  4.62191546e-02],\n",
       "       [ 4.50472992e-14,  4.62962830e-02]])"
      ]
     },
     "execution_count": 21,
     "metadata": {},
     "output_type": "execute_result"
    }
   ],
   "source": [
    "yp0 =-0.04629628736757263\n",
    "y0 = np.array([0, yp0])\n",
    "sol = odeint(f, y0, x)\n",
    "sol"
   ]
  },
  {
   "cell_type": "code",
   "execution_count": 22,
   "metadata": {},
   "outputs": [
    {
     "data": {
      "text/plain": [
       "array([4.50472992e-14, 4.62962830e-02])"
      ]
     },
     "execution_count": 22,
     "metadata": {},
     "output_type": "execute_result"
    },
    {
     "data": {
      "image/png": "[encoded data removed]",
      "text/plain": [
       "<Figure size 432x288 with 1 Axes>"
      ]
     },
     "metadata": {
      "needs_background": "light"
     },
     "output_type": "display_data"
    }
   ],
   "source": [
    "t = np.linspace(0, 10)\n",
    "plt.plot(t, sol[:, 0], label='Sol.nueva')\n",
    "plt.legend()\n",
    "sol[-1, :]"
   ]
  },
  {
   "cell_type": "code",
   "execution_count": null,
   "metadata": {},
   "outputs": [],
   "source": [
    "# preserve\n",
    "# Datos\n",
    "L = 5 # Longitud de la viga\n",
    "E = 5e4 # módulo de Young\n",
    "a = 0.6 # alto sección\n",
    "b = 0.3 # ancho sección\n",
    "# Dominio\n",
    "x = np.linspace(0, L, num=50)\n",
    "# Inercia\n",
    "def I(x):\n",
    "    return b * a**3 / 12\n",
    "# Momento flector\n",
    "def M(x):\n",
    "    return L/2 - np.abs(x - L/2)"
   ]
  },
  {
   "cell_type": "code",
   "execution_count": 30,
   "metadata": {},
   "outputs": [
    {
     "data": {
      "text/plain": [
       "array([[0.        , 0.006     ],\n",
       "       [0.00122975, 0.00607713],\n",
       "       [0.00249097, 0.00630851],\n",
       "       [0.00381515, 0.00669416],\n",
       "       [0.00523377, 0.00723405],\n",
       "       [0.00677832, 0.00792821],\n",
       "       [0.00848027, 0.00877662],\n",
       "       [0.0103711 , 0.00977929],\n",
       "       [0.01248231, 0.01093621],\n",
       "       [0.01484536, 0.0122474 ],\n",
       "       [0.01749174, 0.01371284],\n",
       "       [0.02045293, 0.01533253],\n",
       "       [0.02376041, 0.01710648],\n",
       "       [0.02744566, 0.01903469],\n",
       "       [0.03154016, 0.02111716],\n",
       "       [0.0360754 , 0.02335388],\n",
       "       [0.04108285, 0.02574486],\n",
       "       [0.046594  , 0.0282901 ],\n",
       "       [0.05264033, 0.03098959],\n",
       "       [0.05925331, 0.03384334],\n",
       "       [0.06646443, 0.03685134],\n",
       "       [0.07430516, 0.04001361],\n",
       "       [0.082807  , 0.04333012],\n",
       "       [0.09200142, 0.0468009 ],\n",
       "       [0.10191991, 0.05042593],\n",
       "       [0.11259263, 0.05416666],\n",
       "       [0.12401957, 0.05779169],\n",
       "       [0.13617058, 0.06126247],\n",
       "       [0.14901417, 0.06457899],\n",
       "       [0.16251886, 0.06774125],\n",
       "       [0.17665316, 0.07074925],\n",
       "       [0.19138561, 0.073603  ],\n",
       "       [0.20668471, 0.0763025 ],\n",
       "       [0.22251899, 0.07884773],\n",
       "       [0.23885697, 0.08123871],\n",
       "       [0.25566715, 0.08347543],\n",
       "       [0.27291808, 0.0855579 ],\n",
       "       [0.29057825, 0.08748611],\n",
       "       [0.3086162 , 0.08926006],\n",
       "       [0.32700044, 0.09087976],\n",
       "       [0.34569948, 0.09234519],\n",
       "       [0.36468186, 0.09365638],\n",
       "       [0.38391608, 0.0948133 ],\n",
       "       [0.40337067, 0.09581597],\n",
       "       [0.42301415, 0.09666438],\n",
       "       [0.44281503, 0.09735854],\n",
       "       [0.46274183, 0.09789844],\n",
       "       [0.48276308, 0.09828408],\n",
       "       [0.50284729, 0.09851546],\n",
       "       [0.52296298, 0.09859259]])"
      ]
     },
     "execution_count": 30,
     "metadata": {},
     "output_type": "execute_result"
    }
   ],
   "source": [
    "# Probamos solución con la condición inicial\n",
    "yp0 =6e-3\n",
    "y0 = np.array([0, yp0])\n",
    "sol = odeint(f, y0, x)\n",
    "sol"
   ]
  },
  {
   "cell_type": "code",
   "execution_count": 31,
   "metadata": {},
   "outputs": [
    {
     "data": {
      "text/plain": [
       "array([0.52296298, 0.09859259])"
      ]
     },
     "execution_count": 31,
     "metadata": {},
     "output_type": "execute_result"
    },
    {
     "data": {
      "image/png": "[encoded data removed]",
      "text/plain": [
       "<Figure size 432x288 with 1 Axes>"
      ]
     },
     "metadata": {
      "needs_background": "light"
     },
     "output_type": "display_data"
    }
   ],
   "source": [
    "# La representamos\n",
    "t = np.linspace(0, 5)\n",
    "plt.plot(t, sol[:, 0], label='Sol. inicial de aprox.')\n",
    "plt.legend()\n",
    "sol[-1, :]\n"
   ]
  },
  {
   "cell_type": "code",
   "execution_count": 33,
   "metadata": {},
   "outputs": [
    {
     "data": {
      "text/plain": [
       "0.5229629806016121"
      ]
     },
     "execution_count": 33,
     "metadata": {},
     "output_type": "execute_result"
    }
   ],
   "source": [
    "def viga_biap(yp0):\n",
    " y0 = np.array([0, yp0])\n",
    " sol = odeint(f, y0, x)\n",
    " return sol[-1, 0]\n",
    "viga_biap(6e-3)\n"
   ]
  },
  {
   "cell_type": "code",
   "execution_count": 34,
   "metadata": {},
   "outputs": [
    {
     "data": {
      "text/plain": [
       "-0.046296287367577196"
      ]
     },
     "execution_count": 34,
     "metadata": {},
     "output_type": "execute_result"
    }
   ],
   "source": [
    "newton(viga_biap, 6e-3)"
   ]
  },
  {
   "cell_type": "code",
   "execution_count": 35,
   "metadata": {},
   "outputs": [
    {
     "data": {
      "text/plain": [
       "array([[ 0.00000000e+00, -4.62962874e-02],\n",
       "       [-9.44296136e-03, -4.62191590e-02],\n",
       "       [-1.88544555e-02, -4.59877739e-02],\n",
       "       [-2.82029877e-02, -4.56021322e-02],\n",
       "       [-3.74570770e-02, -4.50622337e-02],\n",
       "       [-4.65852425e-02, -4.43680784e-02],\n",
       "       [-5.55560031e-02, -4.35196665e-02],\n",
       "       [-6.43378780e-02, -4.25169979e-02],\n",
       "       [-7.28993861e-02, -4.13600725e-02],\n",
       "       [-8.12090466e-02, -4.00488904e-02],\n",
       "       [-8.92353784e-02, -3.85834517e-02],\n",
       "       [-9.69469006e-02, -3.69637562e-02],\n",
       "       [-1.04312132e-01, -3.51898040e-02],\n",
       "       [-1.11299592e-01, -3.32615950e-02],\n",
       "       [-1.17877800e-01, -3.11791294e-02],\n",
       "       [-1.24015274e-01, -2.89424070e-02],\n",
       "       [-1.29680533e-01, -2.65514280e-02],\n",
       "       [-1.34842098e-01, -2.40061922e-02],\n",
       "       [-1.39468486e-01, -2.13066997e-02],\n",
       "       [-1.43528216e-01, -1.84529505e-02],\n",
       "       [-1.46989808e-01, -1.54449446e-02],\n",
       "       [-1.49821781e-01, -1.22826819e-02],\n",
       "       [-1.51992654e-01, -8.96616257e-03],\n",
       "       [-1.53470946e-01, -5.49538651e-03],\n",
       "       [-1.54225176e-01, -1.87035373e-03],\n",
       "       [-1.54225168e-01,  1.87034936e-03],\n",
       "       [-1.53470939e-01,  5.49538214e-03],\n",
       "       [-1.51992648e-01,  8.96615820e-03],\n",
       "       [-1.49821776e-01,  1.22826776e-02],\n",
       "       [-1.46989804e-01,  1.54449402e-02],\n",
       "       [-1.43528213e-01,  1.84529461e-02],\n",
       "       [-1.39468483e-01,  2.13066953e-02],\n",
       "       [-1.34842096e-01,  2.40061878e-02],\n",
       "       [-1.29680533e-01,  2.65514236e-02],\n",
       "       [-1.24015274e-01,  2.89424027e-02],\n",
       "       [-1.17877801e-01,  3.11791250e-02],\n",
       "       [-1.11299594e-01,  3.32615907e-02],\n",
       "       [-1.04312135e-01,  3.51897996e-02],\n",
       "       [-9.69469045e-02,  3.69637518e-02],\n",
       "       [-8.92353832e-02,  3.85834473e-02],\n",
       "       [-8.12090523e-02,  4.00488861e-02],\n",
       "       [-7.28993927e-02,  4.13600681e-02],\n",
       "       [-6.43378855e-02,  4.25169935e-02],\n",
       "       [-5.55560115e-02,  4.35196621e-02],\n",
       "       [-4.65852517e-02,  4.43680741e-02],\n",
       "       [-3.74570871e-02,  4.50622293e-02],\n",
       "       [-2.82029987e-02,  4.56021278e-02],\n",
       "       [-1.88544674e-02,  4.59877696e-02],\n",
       "       [-9.44297419e-03,  4.62191546e-02],\n",
       "       [-1.13103971e-15,  4.62962830e-02]])"
      ]
     },
     "execution_count": 35,
     "metadata": {},
     "output_type": "execute_result"
    }
   ],
   "source": [
    "yp0 =-0.046296287367577196\n",
    "y0 = np.array([0, yp0])\n",
    "sol = odeint(f, y0, x)\n",
    "sol"
   ]
  },
  {
   "cell_type": "code",
   "execution_count": 36,
   "metadata": {},
   "outputs": [
    {
     "data": {
      "text/plain": [
       "array([-1.13103971e-15,  4.62962830e-02])"
      ]
     },
     "execution_count": 36,
     "metadata": {},
     "output_type": "execute_result"
    },
    {
     "data": {
      "image/png": "[encoded data removed]",
      "text/plain": [
       "<Figure size 432x288 with 1 Axes>"
      ]
     },
     "metadata": {
      "needs_background": "light"
     },
     "output_type": "display_data"
    }
   ],
   "source": [
    "t = np.linspace(0, 5)\n",
    "plt.plot(t, sol[:, 0], label='Sol.nueva')\n",
    "plt.legend()\n",
    "sol[-1, :]"
   ]
  },
  {
   "cell_type": "code",
   "execution_count": 37,
   "metadata": {},
   "outputs": [],
   "source": [
    "# preserve\n",
    "# Datos\n",
    "L = 15 # Longitud de la viga\n",
    "E = 5e4 # módulo de Young\n",
    "a = 0.6 # alto sección\n",
    "b = 0.3 # ancho sección\n",
    "# Dominio\n",
    "x = np.linspace(0, L, num=50)\n",
    "# Inercia\n",
    "def I(x):\n",
    "    return b * a**3 / 12\n",
    "# Momento flector\n",
    "def M(x):\n",
    "    return L/2 - np.abs(x - L/2)"
   ]
  },
  {
   "cell_type": "code",
   "execution_count": 38,
   "metadata": {},
   "outputs": [
    {
     "data": {
      "text/plain": [
       "array([[0.00000000e+00, 3.00000000e-03],\n",
       "       [9.36089138e-04, 3.17353881e-03],\n",
       "       [1.97841277e-03, 3.69415522e-03],\n",
       "       [3.23323291e-03, 4.56184923e-03],\n",
       "       [4.80679778e-03, 5.77662086e-03],\n",
       "       [6.80535563e-03, 7.33847009e-03],\n",
       "       [9.33515473e-03, 9.24739692e-03],\n",
       "       [1.25024433e-02, 1.15034014e-02],\n",
       "       [1.64134696e-02, 1.41064834e-02],\n",
       "       [2.11744819e-02, 1.70566431e-02],\n",
       "       [2.68917284e-02, 2.03538803e-02],\n",
       "       [3.36714574e-02, 2.39981952e-02],\n",
       "       [4.16199170e-02, 2.79895877e-02],\n",
       "       [5.08433557e-02, 3.23280578e-02],\n",
       "       [6.14480215e-02, 3.70136054e-02],\n",
       "       [7.35401629e-02, 4.20462307e-02],\n",
       "       [8.72260279e-02, 4.74259336e-02],\n",
       "       [1.02611865e-01, 5.31527142e-02],\n",
       "       [1.19803922e-01, 5.92265723e-02],\n",
       "       [1.38908448e-01, 6.56475080e-02],\n",
       "       [1.60031690e-01, 7.24155213e-02],\n",
       "       [1.83279897e-01, 7.95306123e-02],\n",
       "       [2.08759318e-01, 8.69927808e-02],\n",
       "       [2.36576199e-01, 9.48020269e-02],\n",
       "       [2.66836791e-01, 1.02958351e-01],\n",
       "       [2.99642894e-01, 1.11374960e-01],\n",
       "       [3.34994540e-01, 1.19531284e-01],\n",
       "       [3.72789897e-01, 1.27340530e-01],\n",
       "       [4.12922714e-01, 1.34802698e-01],\n",
       "       [4.55286745e-01, 1.41917789e-01],\n",
       "       [4.99775741e-01, 1.48685803e-01],\n",
       "       [5.46283453e-01, 1.55106738e-01],\n",
       "       [5.94703634e-01, 1.61180597e-01],\n",
       "       [6.44930035e-01, 1.66907377e-01],\n",
       "       [6.96856408e-01, 1.72287080e-01],\n",
       "       [7.50376504e-01, 1.77319705e-01],\n",
       "       [8.05384077e-01, 1.82005253e-01],\n",
       "       [8.61772876e-01, 1.86343723e-01],\n",
       "       [9.19436654e-01, 1.90335116e-01],\n",
       "       [9.78269163e-01, 1.93979430e-01],\n",
       "       [1.03816415e+00, 1.97276668e-01],\n",
       "       [1.09901538e+00, 2.00226827e-01],\n",
       "       [1.16071659e+00, 2.02829909e-01],\n",
       "       [1.22316154e+00, 2.05085914e-01],\n",
       "       [1.28624398e+00, 2.06994841e-01],\n",
       "       [1.34985766e+00, 2.08556690e-01],\n",
       "       [1.41389633e+00, 2.09771462e-01],\n",
       "       [1.47825375e+00, 2.10639156e-01],\n",
       "       [1.54282367e+00, 2.11159772e-01],\n",
       "       [1.60749983e+00, 2.11333311e-01]])"
      ]
     },
     "execution_count": 38,
     "metadata": {},
     "output_type": "execute_result"
    }
   ],
   "source": [
    "# Probamos solución con la condición inicial\n",
    "yp0 =3e-3\n",
    "y0 = np.array([0, yp0])\n",
    "sol = odeint(f, y0, x)\n",
    "sol"
   ]
  },
  {
   "cell_type": "code",
   "execution_count": 40,
   "metadata": {},
   "outputs": [
    {
     "data": {
      "text/plain": [
       "array([1.60749983, 0.21133331])"
      ]
     },
     "execution_count": 40,
     "metadata": {},
     "output_type": "execute_result"
    },
    {
     "data": {
      "image/png": "[encoded data removed]",
      "text/plain": [
       "<Figure size 432x288 with 1 Axes>"
      ]
     },
     "metadata": {
      "needs_background": "light"
     },
     "output_type": "display_data"
    }
   ],
   "source": [
    "# La representamos\n",
    "t = np.linspace(0, 15)\n",
    "plt.plot(t, sol[:, 0], label='Sol. inicial de aprox.')\n",
    "plt.legend()\n",
    "sol[-1, :]\n"
   ]
  },
  {
   "cell_type": "code",
   "execution_count": 41,
   "metadata": {},
   "outputs": [
    {
     "data": {
      "text/plain": [
       "1.6074998283648072"
      ]
     },
     "execution_count": 41,
     "metadata": {},
     "output_type": "execute_result"
    }
   ],
   "source": [
    "def viga_biap(yp0):\n",
    " y0 = np.array([0, yp0])\n",
    " sol = odeint(f, y0, x)\n",
    " return sol[-1, 0]\n",
    "viga_biap(3e-3)"
   ]
  },
  {
   "cell_type": "code",
   "execution_count": 42,
   "metadata": {},
   "outputs": [
    {
     "data": {
      "text/plain": [
       "-0.10416665992008317"
      ]
     },
     "execution_count": 42,
     "metadata": {},
     "output_type": "execute_result"
    }
   ],
   "source": [
    "newton(viga_biap, 3e-3)"
   ]
  },
  {
   "cell_type": "code",
   "execution_count": 43,
   "metadata": {},
   "outputs": [
    {
     "data": {
      "text/plain": [
       "array([[ 0.00000000e+00, -1.04166660e-01],\n",
       "       [-3.18700313e-02, -1.03993121e-01],\n",
       "       [-6.36338280e-02, -1.03472505e-01],\n",
       "       [-9.51851283e-02, -1.02604811e-01],\n",
       "       [-1.26417684e-01, -1.01390039e-01],\n",
       "       [-1.57225246e-01, -9.98281898e-02],\n",
       "       [-1.87501568e-01, -9.79192630e-02],\n",
       "       [-2.17140399e-01, -9.56632586e-02],\n",
       "       [-2.46035493e-01, -9.30601765e-02],\n",
       "       [-2.74080602e-01, -9.01100168e-02],\n",
       "       [-3.01169475e-01, -8.68127796e-02],\n",
       "       [-3.27195867e-01, -8.31684647e-02],\n",
       "       [-3.52053528e-01, -7.91770722e-02],\n",
       "       [-3.75636209e-01, -7.48386022e-02],\n",
       "       [-3.97837664e-01, -7.01530545e-02],\n",
       "       [-4.18551643e-01, -6.51204292e-02],\n",
       "       [-4.37671898e-01, -5.97407263e-02],\n",
       "       [-4.55092182e-01, -5.40139458e-02],\n",
       "       [-4.70706245e-01, -4.79400877e-02],\n",
       "       [-4.84407840e-01, -4.15191519e-02],\n",
       "       [-4.96090718e-01, -3.47511386e-02],\n",
       "       [-5.05648631e-01, -2.76360477e-02],\n",
       "       [-5.12975331e-01, -2.01738791e-02],\n",
       "       [-5.17964569e-01, -1.23646330e-02],\n",
       "       [-5.20510098e-01, -4.20830923e-03],\n",
       "       [-5.20510086e-01,  4.20830570e-03],\n",
       "       [-5.17964558e-01,  1.23646295e-02],\n",
       "       [-5.12975320e-01,  2.01738756e-02],\n",
       "       [-5.05648622e-01,  2.76360441e-02],\n",
       "       [-4.96090710e-01,  3.47511351e-02],\n",
       "       [-4.84407833e-01,  4.15191484e-02],\n",
       "       [-4.70706239e-01,  4.79400841e-02],\n",
       "       [-4.55092177e-01,  5.40139422e-02],\n",
       "       [-4.37671894e-01,  5.97407228e-02],\n",
       "       [-4.18551640e-01,  6.51204257e-02],\n",
       "       [-3.97837662e-01,  7.01530509e-02],\n",
       "       [-3.75636209e-01,  7.48385986e-02],\n",
       "       [-3.52053528e-01,  7.91770687e-02],\n",
       "       [-3.27195868e-01,  8.31684612e-02],\n",
       "       [-3.01169478e-01,  8.68127761e-02],\n",
       "       [-2.74080605e-01,  9.01100133e-02],\n",
       "       [-2.46035498e-01,  9.30601730e-02],\n",
       "       [-2.17140405e-01,  9.56632550e-02],\n",
       "       [-1.87501574e-01,  9.79192595e-02],\n",
       "       [-1.57225254e-01,  9.98281863e-02],\n",
       "       [-1.26417693e-01,  1.01390036e-01],\n",
       "       [-9.51851384e-02,  1.02604807e-01],\n",
       "       [-6.36338392e-02,  1.03472501e-01],\n",
       "       [-3.18700435e-02,  1.03993118e-01],\n",
       "       [ 3.94664891e-10,  1.04166656e-01]])"
      ]
     },
     "execution_count": 43,
     "metadata": {},
     "output_type": "execute_result"
    }
   ],
   "source": [
    "yp0 =-0.10416665992008317\n",
    "y0 = np.array([0, yp0])\n",
    "sol = odeint(f, y0, x)\n",
    "sol"
   ]
  },
  {
   "cell_type": "code",
   "execution_count": 44,
   "metadata": {},
   "outputs": [
    {
     "data": {
      "text/plain": [
       "array([3.94664891e-10, 1.04166656e-01])"
      ]
     },
     "execution_count": 44,
     "metadata": {},
     "output_type": "execute_result"
    },
    {
     "data": {
      "image/png": "[encoded data removed]",
      "text/plain": [
       "<Figure size 432x288 with 1 Axes>"
      ]
     },
     "metadata": {
      "needs_background": "light"
     },
     "output_type": "display_data"
    }
   ],
   "source": [
    "t = np.linspace(0, 15)\n",
    "plt.plot(t, sol[:, 0], label='Sol.nueva')\n",
    "plt.legend()\n",
    "sol[-1, :]"
   ]
  }
 ],
 "metadata": {
  "kernelspec": {
   "display_name": "Python 3",
   "language": "python",
   "name": "python3"
  },
  "language_info": {
   "codemirror_mode": {
    "name": "ipython",
    "version": 3
   },
   "file_extension": ".py",
   "mimetype": "text/x-python",
   "name": "python",
   "nbconvert_exporter": "python",
   "pygments_lexer": "ipython3",
   "version": "3.7.3"
  }
 },
 "nbformat": 4,
 "nbformat_minor": 2
}
